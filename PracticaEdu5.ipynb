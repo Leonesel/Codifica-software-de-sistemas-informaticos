{
 "cells": [
  {
   "cell_type": "code",
   "execution_count": null,
   "id": "8c36458c-9660-45c4-960d-639b2fd8ff5a",
   "metadata": {},
   "outputs": [
    {
     "name": "stdin",
     "output_type": "stream",
     "text": [
      "Escribe tu nombre Eduardo Leonel\n",
      "Escribe tu apellido Navarro Avila\n"
     ]
    },
    {
     "name": "stdout",
     "output_type": "stream",
     "text": [
      "¿Tu nombre es Navarro Avila Eduardo Leonel ?\n"
     ]
    }
   ],
   "source": [
    "#escribir una solucion que pregunte al usuario\n",
    "#su nombre y apellido, desplegar el texto en \n",
    "#pantalla invertido con un espacio entre ellos\n",
    "nombre = input(\"Escribe tu nombre\")\n",
    "apellido = input(\"Escribe tu apellido\")\n",
    "print(\"¿Tu nombre es\", apellido, nombre, \"?\")\n",
    "\n",
    "#Crear una solucion que le pregunte al usuario \n",
    "#su nombre y edad. Entonces escribir un mensaje\n",
    "#que le diga el año en el que puede llegar a tener\n",
    "#100 años de edad\n",
    "nambre = input(\"ingrese su nombre\")\n",
    "edad = int(input(\"Ingrese su edad\"))\n",
    "año_nac = int(input(\"ingrese el año actual\"))\n",
    "print(nambre, \"El año en el que tu podrias tener 100 años de edad es en el\", año_nac-edad+100)"
   ]
  },
  {
   "cell_type": "code",
   "execution_count": null,
   "id": "abbad7ac-499b-44e9-906d-3da88ad140c8",
   "metadata": {},
   "outputs": [],
   "source": []
  }
 ],
 "metadata": {
  "kernelspec": {
   "display_name": "Python [conda env:base] *",
   "language": "python",
   "name": "conda-base-py"
  },
  "language_info": {
   "codemirror_mode": {
    "name": "ipython",
    "version": 3
   },
   "file_extension": ".py",
   "mimetype": "text/x-python",
   "name": "python",
   "nbconvert_exporter": "python",
   "pygments_lexer": "ipython3",
   "version": "3.12.7"
  }
 },
 "nbformat": 4,
 "nbformat_minor": 5
}
