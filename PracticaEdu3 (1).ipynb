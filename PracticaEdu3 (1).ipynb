{
 "cells": [
  {
   "cell_type": "code",
   "execution_count": 8,
   "id": "f984705f-0f47-4c11-9882-9696c1d4c408",
   "metadata": {},
   "outputs": [
    {
     "name": "stdin",
     "output_type": "stream",
     "text": [
      "ingresa el valor de la hora que quieres consultar:  4\n"
     ]
    },
    {
     "name": "stdout",
     "output_type": "stream",
     "text": [
      "la hora en dublin seria: 10.00\n",
      "la hora en londres seria: 11.00\n",
      "la hora en los angeles seria: 2.00\n",
      "la hora en nueva york seria: 6.00\n",
      "la hora en nueva deli seria: 15.30\n"
     ]
    }
   ],
   "source": [
    "dublin= +6\n",
    "londres= +7\n",
    "tokio= +15\n",
    "los_angeles= -2\n",
    "nueva_york= +2\n",
    "nueva_deli= +11.3\n",
    "hora_mexico= input(\"ingresa el valor de la hora que quieres consultar: \")\n",
    "hora_mexico= int(hora_mexico)\n",
    "print(\"la hora en dublin seria: %.2f\" %(hora_mexico+dublin))\n",
    "print(\"la hora en londres seria: %.2f\" %(hora_mexico+londres))\n",
    "print(\"la hora en los angeles seria: %.2f\" %(hora_mexico+los_angeles))\n",
    "print(\"la hora en nueva york seria: %.2f\" %(hora_mexico+nueva_york))\n",
    "print(\"la hora en nueva deli seria: %.2f\" %(hora_mexico+nueva_deli))"
   ]
  },
  {
   "cell_type": "code",
   "execution_count": null,
   "id": "b19b261b-79ab-487f-9159-2c116944d462",
   "metadata": {},
   "outputs": [],
   "source": []
  }
 ],
 "metadata": {
  "kernelspec": {
   "display_name": "Python [conda env:base] *",
   "language": "python",
   "name": "conda-base-py"
  },
  "language_info": {
   "codemirror_mode": {
    "name": "ipython",
    "version": 3
   },
   "file_extension": ".py",
   "mimetype": "text/x-python",
   "name": "python",
   "nbconvert_exporter": "python",
   "pygments_lexer": "ipython3",
   "version": "3.12.7"
  }
 },
 "nbformat": 4,
 "nbformat_minor": 5
}
