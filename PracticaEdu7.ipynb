{
 "cells": [
  {
   "cell_type": "code",
   "execution_count": 18,
   "id": "10adcd3d-0289-42df-bcb5-d4c6df939a71",
   "metadata": {},
   "outputs": [
    {
     "name": "stdin",
     "output_type": "stream",
     "text": [
      "Ingrese el porcentaje del alumno:  90\n"
     ]
    },
    {
     "name": "stdout",
     "output_type": "stream",
     "text": [
      "El grado del alumno es: B\n"
     ]
    },
    {
     "name": "stdin",
     "output_type": "stream",
     "text": [
      "Ingrese el precio de la bicicleta:  50\n"
     ]
    },
    {
     "name": "stdout",
     "output_type": "stream",
     "text": [
      "El impuesto a pagar es: $2.50\n",
      "El precio total a pagar es: $52.50\n"
     ]
    }
   ],
   "source": [
    "def evaluar_grado(porcentaje):\n",
    "    if porcentaje > 90:\n",
    "        return \"A\"\n",
    "    elif porcentaje > 80 and porcentaje <= 90:\n",
    "        return \"B\"\n",
    "    elif porcentaje >= 60 and porcentaje <= 80:\n",
    "        return \"C\"\n",
    "    else:\n",
    "        return \"D\"\n",
    "\n",
    "def main():\n",
    "    porcentaje = float(input(\"Ingrese el porcentaje del alumno: \"))\n",
    "    if porcentaje < 0 or porcentaje > 100:\n",
    "        print(\"Porcentaje inválido. Debe estar entre 0 y 100.\")\n",
    "    else:\n",
    "        grado = evaluar_grado(porcentaje)\n",
    "        print(f\"El grado del alumno es: {grado}\")\n",
    "\n",
    "if __name__ == \"__main__\":\n",
    "    main()\n",
    "\n",
    "def calcular_impuesto(precio):\n",
    "    if precio > 100000:\n",
    "        impuesto = precio * 0.15\n",
    "    elif precio > 50000 and precio <= 100000:\n",
    "        impuesto = precio * 0.10\n",
    "    else:\n",
    "        impuesto = precio * 0.05\n",
    "    return impuesto\n",
    "\n",
    "def main():\n",
    "    precio = float(input(\"Ingrese el precio de la bicicleta: \"))\n",
    "    impuesto = calcular_impuesto(precio)\n",
    "    print(f\"El impuesto a pagar es: ${impuesto:.2f}\")\n",
    "    print(f\"El precio total a pagar es: ${precio + impuesto:.2f}\")\n",
    "\n",
    "if __name__ == \"__main__\":\n",
    "    main()\n",
    "\n",
    "def es_bisiesto(año):\n",
    "    if año % 4 == 0:\n",
    "        if año % 100 == 0:\n",
    "            if año % 400 == 0:\n",
    "                return True\n",
    "            else:\n",
    "                return False\n",
    "        else:\n",
    "            return True\n",
    "    else:\n",
    "        return False\n",
    "\n",
    "def main():\n",
    "    año = int(input(\"Ingrese el año: \"))\n",
    "    if es_bisiesto(año):\n",
    "        print(f\"El año {año} es bisiesto.\")\n",
    "    else:\n",
    "        print(f\"El año {año} no es bisiesto.\")\n",
    "\n",
    "if __name__ == \"__main__\":\n",
    "    main()\n",
    "\n",
    "def obtener_dia_semana(num_dia):\n",
    "    dias_semana = [\"Domingo\", \"Lunes\", \"Martes\", \"Miércoles\", \"Jueves\", \"Viernes\", \"Sábado\"]\n",
    "    if 1 <= num_dia <= 7:\n",
    "        return dias_semana[num_dia - 1]\n",
    "    else:\n",
    "        return \"Número inválido\"\n",
    "\n",
    "def main():\n",
    "    num_dia = int(input(\"Ingrese un número del 1 al 7: \"))\n",
    "    dia_semana = obtener_dia_semana(num_dia)\n",
    "    print(f\"El día de la semana es: {dia_semana}\")\n",
    "\n",
    "if __name__ == \"__main__\":\n",
    "    main()\n",
    "\n",
    "def obtener_mes(num_mes):\n",
    "    meses = [\n",
    "        {\"nombre\": \"Enero\", \"días\": 31},\n",
    "        {\"nombre\": \"Febrero\", \"días\": 28},  # No se considera el año bisiesto\n",
    "        {\"nombre\": \"Marzo\", \"días\": 31},\n",
    "        {\"nombre\": \"Abril\", \"días\": 30},\n",
    "        {\"nombre\": \"Mayo\", \"días\": 31},\n",
    "        {\"nombre\": \"Junio\", \"días\": 30},\n",
    "        {\"nombre\": \"Julio\", \"días\": 31},\n",
    "        {\"nombre\": \"Agosto\", \"días\": 31},\n",
    "        {\"nombre\": \"Septiembre\", \"días\": 30},\n",
    "        {\"nombre\": \"Octubre\", \"días\": 31},\n",
    "        {\"nombre\": \"Noviembre\", \"días\": 30},\n",
    "        {\"nombre\": \"Diciembre\", \"días\": 31}\n",
    "    ]\n",
    "\n",
    "    if 1 <= num_mes <= 12:\n",
    "        return meses[num_mes - 1]\n",
    "    else:\n",
    "        return None\n",
    "\n",
    "def main():\n",
    "    num_mes = int(input(\"Ingrese un número del 1 al 12: \"))\n",
    "    mes = obtener_mes(num_mes)\n",
    "\n",
    "    if mes is not None:\n",
    "        print(f\"El mes es: {mes['nombre']}\")\n",
    "        print(f\"El mes tiene: {mes['días']} días\")\n",
    "    else:\n",
    "        print(\"Número inválido\")\n",
    "\n",
    "if __name__ == \"__main__\":\n",
    "    main()\n",
    "\n",
    "#CSdSI\n",
    "#24/02/2025\n",
    "#Eduardo Leonel Navarro Avila\n",
    "#Practica No.7"
   ]
  },
  {
   "cell_type": "code",
   "execution_count": null,
   "id": "5c903e2d-91f3-4740-9d69-aa205849a6ba",
   "metadata": {},
   "outputs": [],
   "source": []
  }
 ],
 "metadata": {
  "kernelspec": {
   "display_name": "Python [conda env:base] *",
   "language": "python",
   "name": "conda-base-py"
  },
  "language_info": {
   "codemirror_mode": {
    "name": "ipython",
    "version": 3
   },
   "file_extension": ".py",
   "mimetype": "text/x-python",
   "name": "python",
   "nbconvert_exporter": "python",
   "pygments_lexer": "ipython3",
   "version": "3.12.7"
  }
 },
 "nbformat": 4,
 "nbformat_minor": 5
}
