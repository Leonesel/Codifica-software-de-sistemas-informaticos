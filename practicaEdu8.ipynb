{
 "cells": [
  {
   "cell_type": "code",
   "execution_count": 169,
   "id": "6fdeb678-ab72-4e1a-a779-64dd3a5d6ae7",
   "metadata": {},
   "outputs": [
    {
     "name": "stdin",
     "output_type": "stream",
     "text": [
      "Escribe el nombre de una ciudad y te dire su monumento famoso:  Paris\n"
     ]
    },
    {
     "name": "stdout",
     "output_type": "stream",
     "text": [
      "EL monumento más famoso de Paris es la Torre Eifel\n"
     ]
    },
    {
     "name": "stdin",
     "output_type": "stream",
     "text": [
      "¿Tienes tu credencial para votar (INE)?:  no\n",
      "¿Eres mayor de 18 años?:  si\n"
     ]
    },
    {
     "name": "stdout",
     "output_type": "stream",
     "text": [
      "No puedes votar, obten tu ine ya\n"
     ]
    },
    {
     "name": "stdin",
     "output_type": "stream",
     "text": [
      "ingrese el primer numero:  4\n",
      "ingrese el segundo numero:  69\n"
     ]
    },
    {
     "name": "stdout",
     "output_type": "stream",
     "text": [
      "El primer número es menor\n"
     ]
    },
    {
     "name": "stdin",
     "output_type": "stream",
     "text": [
      "ingrese la edad de Panfilo:  26\n",
      "ingrese la segunda Pancracio:  47\n",
      "ingrese la tercera Patroclo:  82\n",
      "ingrese el segundo Pedro:  23\n"
     ]
    },
    {
     "name": "stdout",
     "output_type": "stream",
     "text": [
      "dos o mas personas son menores a la vez\n"
     ]
    }
   ],
   "source": [
    "#practica 7 parte 1\n",
    "\n",
    "ciudad = input(\"Escribe el nombre de una ciudad y te dire su monumento famoso: \")\n",
    "\n",
    "if ciudad == \"Paris\":\n",
    "    print(\"EL monumento más famoso de Paris es la Torre Eifel\")\n",
    "elif ciudad == \"Delhi\":\n",
    "    print(\"El monumento más famoso de Delhi es el Red Fort\")\n",
    "elif ciudad == \"Nueva York\":\n",
    "    print(\"El monumento más famoso de Nueva York es la Estatua de la Libertad\")\n",
    "elif ciudad == \"Rio de Janeiro\":\n",
    "    print(\"El monumento más famoso del Rio de Janeiro es el Cristo Redentor\")\n",
    "else:\n",
    "    print(\"lo siento no tenemos información de esa ciudad\")\n",
    "\n",
    "#practica 7 parte 2\n",
    "\n",
    "ine = input(\"¿Tienes tu credencial para votar (INE)?: \")\n",
    "mayor = input(\"¿Eres mayor de 18 años?: \")\n",
    "\n",
    "if ine == \"si\" and  mayor == \"si\":\n",
    "    print(\"Puedes votar\")\n",
    "elif ine == \"no\" and mayor == \"si\":\n",
    "    print(\"No puedes votar, obten tu ine ya\")\n",
    "elif ine == \"si\" and mayor == \"no\":\n",
    "    print(\"Imposible, no puedes votar\")\n",
    "elif ine == \"no\" and mayor == \"no\":\n",
    "    print(\"No puedes votar\")\n",
    "else:\n",
    "    print(\"Solo responde si o no\")\n",
    "    \n",
    "#practica 7 parte 3\n",
    "\n",
    "primero = input(\"ingrese el primer numero: \")\n",
    "segundo = input(\"ingrese el segundo numero: \")\n",
    "primero = int(primero)\n",
    "segundo = int(segundo)\n",
    "\n",
    "if primero > segundo:\n",
    "     print(\"El segundo númer es menor\")\n",
    "elif primero < segundo:\n",
    "    print(\"El primer número es menor\")\n",
    "else:\n",
    "    print(\"son iguales\")\n",
    "\n",
    "primerap = input(\"ingrese la edad de Panfilo: \")\n",
    "segundap = input(\"ingrese la segunda Pancracio: \")\n",
    "tercerap = input(\"ingrese la tercera Patroclo: \")\n",
    "cuartap = input(\"ingrese el segundo Pedro: \")\n",
    "primerap = int(primerap)\n",
    "segundap = int(segundap)\n",
    "tercerap = int(tercerap)\n",
    "cuartap= int(cuartap)\n",
    "\n",
    "#practica 7 parte 4\n",
    "\n",
    "if primerap < segundap and primerap < tercerap and primerap < cuartap:\n",
    " print(\"Panfilo es menor que los demás\")\n",
    "elif segundap < primerap and segundap < tercerap and segundap < cuartap:\n",
    " print(\"Pancracio es menor que los demás\")\n",
    "elif tercerap < primerap and tercerap < segundap and tercerap < cuartap:\n",
    " print(\"Patroclo es menor que los demás\")\n",
    "elif cuartap < primerap and segundap < cuartap and tercerap < cuartap:\n",
    " print(\"Pedro es menor que los demás\")\n",
    "else:\n",
    " print(\"dos o mas personas son menores a la vez\")\n",
    "\n",
    "#practica 7 parte 5\n",
    "\n"
   ]
  },
  {
   "cell_type": "code",
   "execution_count": null,
   "id": "55cf4c54-4da1-4f1d-9cc4-904581c88774",
   "metadata": {},
   "outputs": [],
   "source": []
  }
 ],
 "metadata": {
  "kernelspec": {
   "display_name": "Python [conda env:base] *",
   "language": "python",
   "name": "conda-base-py"
  },
  "language_info": {
   "codemirror_mode": {
    "name": "ipython",
    "version": 3
   },
   "file_extension": ".py",
   "mimetype": "text/x-python",
   "name": "python",
   "nbconvert_exporter": "python",
   "pygments_lexer": "ipython3",
   "version": "3.12.7"
  }
 },
 "nbformat": 4,
 "nbformat_minor": 5
}
