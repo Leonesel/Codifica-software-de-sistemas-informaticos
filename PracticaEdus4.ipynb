{
 "cells": [
  {
   "cell_type": "code",
   "execution_count": 5,
   "id": "684d8b2f-034f-4747-971e-e977b346ba41",
   "metadata": {},
   "outputs": [
    {
     "name": "stdin",
     "output_type": "stream",
     "text": [
      "Cual es tu nombre Annie\n",
      "Que edad tienes 23 casi 24\n",
      "Que deseas estudiar una teibolera\n"
     ]
    },
    {
     "name": "stdout",
     "output_type": "stream",
     "text": [
      "Mi nombre es Annie y tengo 23 casi 24 años de edad. Tambien siempre he querido ser una teibolera ¡Gracias por leerme!\n"
     ]
    }
   ],
   "source": [
    "\n",
    "#Codificar una solucion que escriba el siguiente\n",
    "#texto llenando los espacios en blanco\n",
    "\n",
    "#Mi nombre es ______ y tengo ____ años de edad.\n",
    "#Tambien, Siempre he querido ser ________\n",
    "#Gracias por leer me!\n",
    "\n",
    "nombre = input(\"Cual es tu nombre\")\n",
    "edad = input(\"Que edad tienes\")\n",
    "profesion = input(\"Que deseas estudiar\")\n",
    "print(\"Mi nombre es\", nombre ,\"y tengo\", edad ,\"años de edad. Tambien siempre he querido ser\", profesion ,\"¡Gracias por leerme!\")"
   ]
  },
  {
   "cell_type": "code",
   "execution_count": null,
   "id": "febd97a0-89c1-47b7-9d56-a331bad8d404",
   "metadata": {},
   "outputs": [],
   "source": []
  }
 ],
 "metadata": {
  "kernelspec": {
   "display_name": "Python [conda env:base] *",
   "language": "python",
   "name": "conda-base-py"
  },
  "language_info": {
   "codemirror_mode": {
    "name": "ipython",
    "version": 3
   },
   "file_extension": ".py",
   "mimetype": "text/x-python",
   "name": "python",
   "nbconvert_exporter": "python",
   "pygments_lexer": "ipython3",
   "version": "3.12.7"
  }
 },
 "nbformat": 4,
 "nbformat_minor": 5
}
