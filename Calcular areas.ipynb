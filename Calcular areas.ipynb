{
 "cells": [
  {
   "cell_type": "code",
   "execution_count": 22,
   "id": "c06f33de-c548-4502-8387-0703c8e2e0a0",
   "metadata": {},
   "outputs": [
    {
     "name": "stdin",
     "output_type": "stream",
     "text": [
      "inroduce la medida del lado del cuadrado:  12\n"
     ]
    },
    {
     "name": "stdout",
     "output_type": "stream",
     "text": [
      "el area del cuadrado es 144\n"
     ]
    },
    {
     "name": "stdin",
     "output_type": "stream",
     "text": [
      "introduce la base de el rectangulo:  12\n",
      "Introduce la altura de el rectangulo:  12\n"
     ]
    },
    {
     "name": "stdout",
     "output_type": "stream",
     "text": [
      "el area del rectangulo es:  144\n"
     ]
    },
    {
     "name": "stdin",
     "output_type": "stream",
     "text": [
      "introduce la base de el triangulo:  2\n",
      "Introduce la altura de el triangulo:  3\n"
     ]
    },
    {
     "name": "stdout",
     "output_type": "stream",
     "text": [
      "el area del triangulo es:  3.0\n"
     ]
    },
    {
     "name": "stdin",
     "output_type": "stream",
     "text": [
      "introduce la medida del radio:  5\n"
     ]
    },
    {
     "name": "stdout",
     "output_type": "stream",
     "text": [
      "el area del circulo es 246.741264\n"
     ]
    },
    {
     "name": "stdin",
     "output_type": "stream",
     "text": [
      "introduce la base de el romboide:  2\n",
      "Introduce la altura de el romboide:  3\n"
     ]
    },
    {
     "name": "stdout",
     "output_type": "stream",
     "text": [
      "el area del romobide es:  6\n"
     ]
    },
    {
     "name": "stdin",
     "output_type": "stream",
     "text": [
      "intoduce el lado del pentagono:  3\n",
      "intoduce la medida de la apotema:  12\n"
     ]
    },
    {
     "name": "stdout",
     "output_type": "stream",
     "text": [
      "el area del pentagono es:  90.0\n"
     ]
    },
    {
     "name": "stdin",
     "output_type": "stream",
     "text": [
      "introduce la medida del diametroA:  3\n",
      "introduce la medida del diametroB:  2\n"
     ]
    },
    {
     "name": "stdout",
     "output_type": "stream",
     "text": [
      "El area del rombo es:  3.0\n"
     ]
    }
   ],
   "source": [
    "\"calcula el area del cuadrado\"\n",
    "lado = int(input(\"inroduce la medida del lado del cuadrado: \"))\n",
    "print(\"el area del cuadrado es\", lado**2)\n",
    "\"calcula el area del rectangulo\"\n",
    "base = int(input(\"introduce la base de el rectangulo: \"))\n",
    "altura = int(input(\"Introduce la altura de el rectangulo: \"))\n",
    "print(\"el area del rectangulo es: \", base*altura)\n",
    "\"calcula el area del triangulo\"\n",
    "base = int(input(\"introduce la base de el triangulo: \"))\n",
    "altura = int(input(\"Introduce la altura de el triangulo: \"))\n",
    "print(\"el area del triangulo es: \", (base*altura)/2)\n",
    "\"calcula el area del circulo\"\n",
    "pi = 3.1416\n",
    "radio = int(input(\"introduce la medida del radio: \"))\n",
    "print(\"el area del circulo es\", (pi*radio)**2)\n",
    "\"calcula el area del romboide\"\n",
    "base = int(input(\"introduce la base de el romboide: \"))\n",
    "altura = int(input(\"Introduce la altura de el romboide: \"))\n",
    "print(\"el area del romobide es: \", base*altura)\n",
    "\"calcula el area del pentagono\"\n",
    "lado = int(input(\"intoduce el lado del pentagono: \"))\n",
    "apotema = int(input(\"intoduce la medida de la apotema: \"))\n",
    "print(\"el area del pentagono es: \", .5*(lado*5)*apotema)\n",
    "\"calcula el area del rombo\"\n",
    "diametroA = int(input(\"introduce la medida del diametroA: \"))\n",
    "diametroB = int(input(\"introduce la medida del diametroB: \"))\n",
    "print(\"El area del rombo es: \", .5*diametroA*diametroB)"
   ]
  },
  {
   "cell_type": "code",
   "execution_count": null,
   "id": "eb12bb2d-f7d3-484e-98c8-1c2099fcc2ee",
   "metadata": {},
   "outputs": [],
   "source": []
  }
 ],
 "metadata": {
  "kernelspec": {
   "display_name": "Python [conda env:base] *",
   "language": "python",
   "name": "conda-base-py"
  },
  "language_info": {
   "codemirror_mode": {
    "name": "ipython",
    "version": 3
   },
   "file_extension": ".py",
   "mimetype": "text/x-python",
   "name": "python",
   "nbconvert_exporter": "python",
   "pygments_lexer": "ipython3",
   "version": "3.12.7"
  }
 },
 "nbformat": 4,
 "nbformat_minor": 5
}
