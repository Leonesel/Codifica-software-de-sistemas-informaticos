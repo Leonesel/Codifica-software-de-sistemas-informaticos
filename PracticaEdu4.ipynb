{
 "cells": [
  {
   "cell_type": "code",
   "execution_count": 17,
   "id": "bc66040f-fa23-4846-8391-17a949c53dfd",
   "metadata": {},
   "outputs": [
    {
     "name": "stdin",
     "output_type": "stream",
     "text": [
      "Cual es tu nombre caca\n",
      "Que edad tienes 23 casi 24\n",
      "Que deseas estudiar teibolera\n"
     ]
    },
    {
     "ename": "NameError",
     "evalue": "name 'profesión' is not defined",
     "output_type": "error",
     "traceback": [
      "\u001b[1;31m---------------------------------------------------------------------------\u001b[0m",
      "\u001b[1;31mNameError\u001b[0m                                 Traceback (most recent call last)",
      "Cell \u001b[1;32mIn[17], line 11\u001b[0m\n\u001b[0;32m      9\u001b[0m edad \u001b[38;5;241m=\u001b[39m \u001b[38;5;28minput\u001b[39m(\u001b[38;5;124m\"\u001b[39m\u001b[38;5;124mQue edad tienes\u001b[39m\u001b[38;5;124m\"\u001b[39m)\n\u001b[0;32m     10\u001b[0m profesion \u001b[38;5;241m=\u001b[39m \u001b[38;5;28minput\u001b[39m(\u001b[38;5;124m\"\u001b[39m\u001b[38;5;124mQue deseas estudiar\u001b[39m\u001b[38;5;124m\"\u001b[39m)\n\u001b[1;32m---> 11\u001b[0m \u001b[38;5;28mprint\u001b[39m(\u001b[38;5;124m\"\u001b[39m\u001b[38;5;124mMi nombre es\u001b[39m\u001b[38;5;124m\"\u001b[39m, nombre ,\u001b[38;5;124m\"\u001b[39m\u001b[38;5;124my tengo\u001b[39m\u001b[38;5;124m\"\u001b[39m, edad ,\u001b[38;5;124m\"\u001b[39m\u001b[38;5;124maños de edad. Tambien siempre he querido ser\u001b[39m\u001b[38;5;124m\"\u001b[39m, profesión ,\u001b[38;5;124m\"\u001b[39m\u001b[38;5;124m¡Gracias por leerme!\u001b[39m\u001b[38;5;124m\"\u001b[39m)\n",
      "\u001b[1;31mNameError\u001b[0m: name 'profesión' is not defined"
     ]
    }
   ],
   "source": [
    "#Codificar una solucion que escriba el siguiente\n",
    "#texto llenando los espacios en blanco\n",
    "\n",
    "#Mi nombre es ______ y tengo ____ años de edad.\n",
    "#Tambien, Siempre he querido ser ________\n",
    "#Gracias por leer me!\n",
    "\n",
    "nombre = input(\"Cual es tu nombre\")\n",
    "edad = input(\"Que edad tienes\")\n",
    "profesion = input(\"Que deseas estudiar\")\n",
    "print(\"Mi nombre es\", nombre ,\"y tengo\", edad ,\"años de edad. Tambien siempre he querido ser\", profesin ,\"¡Gracias por leerme!\")"
   ]
  },
  {
   "cell_type": "code",
   "execution_count": null,
   "id": "2893721a-ef53-4e3a-a6bc-f8137ff3dae1",
   "metadata": {},
   "outputs": [],
   "source": [
    "print(\"Mi nombre es\" nombre \"y tengo\" edad \"años de edad. Tambien siempre he querido ser\" profesión \"¡Gracias por leerme!\")"
   ]
  }
 ],
 "metadata": {
  "kernelspec": {
   "display_name": "Python [conda env:base] *",
   "language": "python",
   "name": "conda-base-py"
  },
  "language_info": {
   "codemirror_mode": {
    "name": "ipython",
    "version": 3
   },
   "file_extension": ".py",
   "mimetype": "text/x-python",
   "name": "python",
   "nbconvert_exporter": "python",
   "pygments_lexer": "ipython3",
   "version": "3.12.7"
  }
 },
 "nbformat": 4,
 "nbformat_minor": 5
}
