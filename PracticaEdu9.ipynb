{
 "cells": [
  {
   "cell_type": "code",
   "execution_count": 11,
   "id": "21ddb55b-1bcf-4994-afc1-394badef8b87",
   "metadata": {},
   "outputs": [
    {
     "name": "stdout",
     "output_type": "stream",
     "text": [
      "Los primeros 10 números:\n",
      "0\n",
      "\n",
      "1\n",
      "\n",
      "2\n",
      "\n",
      "3\n",
      "\n",
      "4\n",
      "\n",
      "5\n",
      "\n",
      "6\n",
      "\n",
      "7\n",
      "\n",
      "8\n",
      "\n",
      "9\n",
      "\n",
      "Los primeros 10 núeros impares:\n",
      "\n",
      "3\n",
      "\n",
      "\n",
      "5\n",
      "\n",
      "\n",
      "7\n",
      "\n",
      "\n",
      "9\n",
      "\n",
      "\n",
      "11\n",
      "\n",
      "\n",
      "13\n",
      "\n",
      "\n",
      "15\n",
      "\n",
      "\n",
      "17\n",
      "\n",
      "\n",
      "19\n",
      "\n",
      "\n",
      "21\n",
      "\n",
      "Los primeros 10 numeros descendientes\n",
      "9\n",
      "\n",
      "8\n",
      "\n",
      "7\n",
      "\n",
      "6\n",
      "\n",
      "5\n",
      "\n",
      "4\n",
      "\n",
      "3\n",
      "\n",
      "2\n",
      "\n",
      "1\n",
      "\n",
      "0\n",
      "\n"
     ]
    },
    {
     "name": "stdin",
     "output_type": "stream",
     "text": [
      "ingrse un numero:  2\n"
     ]
    },
    {
     "name": "stdout",
     "output_type": "stream",
     "text": [
      "x 1 = 2 \n",
      "x 2 = 4 \n",
      "x 3 = 6 \n",
      "x 4 = 8 \n",
      "x 5 = 10 \n",
      "x 6 = 12 \n",
      "x 7 = 14 \n",
      "x 8 = 16 \n",
      "x 9 = 18 \n",
      "x 10 = 20 \n"
     ]
    },
    {
     "name": "stdin",
     "output_type": "stream",
     "text": [
      "Ingrese un número 4\n",
      "Ingrese un segúndo número 4\n",
      "Ingrese un tercer número 4\n",
      "Ingrese un  cuartonúmero 4\n"
     ]
    },
    {
     "name": "stdout",
     "output_type": "stream",
     "text": [
      "El resultado de lo que no se que hago sería: 13\n"
     ]
    }
   ],
   "source": [
    "#-------------------------------------------------------------------------#\n",
    "#Escribir un programa que imprima los primeros 10 numeros naturales\n",
    "print(\"Los primeros 10 números:\")\n",
    "for i in range(10):\n",
    "    print(i)\n",
    "    print()\n",
    "#-------------------------------------------------------------------------#\n",
    "#Escibir un programa que imprima los primeros 10 numeros impares\n",
    "print(\"Los primeros 10 núeros impares:\")\n",
    "for num in range(2, 22):\n",
    "    if num % 2 == 0:\n",
    "        print()\n",
    "        continue      \n",
    "    print(num)\n",
    "    print()\n",
    "#-------------------------------------------------------------------------#\n",
    "#Escribir un programa que imprima los primeros 10 numeros naturales en orden descendente\n",
    "print(\"Los primeros 10 numeros descendientes\")\n",
    "for des in range(9,-1,-1):\n",
    "    print(des)\n",
    "    print()\n",
    "#-------------------------------------------------------------------------#\n",
    "#Escribir un programa que escriba la tabla de multiplicar de un numero especificado por el usuario\n",
    "num = input(\"ingrse un numero: \")\n",
    "num = int(num)\n",
    "\n",
    "print(\"x 1 = %.0f \" %(num*1))\n",
    "print(\"x 2 = %.0f \" %(num*2))\n",
    "print(\"x 3 = %.0f \" %(num*3))\n",
    "print(\"x 4 = %.0f \" %(num*4))\n",
    "print(\"x 5 = %.0f \" %(num*5))\n",
    "print(\"x 6 = %.0f \" %(num*6))\n",
    "print(\"x 7 = %.0f \" %(num*7))\n",
    "print(\"x 8 = %.0f \" %(num*8))\n",
    "print(\"x 9 = %.0f \" %(num*9))\n",
    "print(\"x 10 = %.0f \" %(num*10))\n",
    "#-------------------------------------------------------------------------#\n",
    "#Escribir un programa que escriba el producto de los digitos de un numero especificado por el usuario\n",
    "nume = int(input(\"Ingrese un número\"))\n",
    "numi = int(input(\"Ingrese un segúndo número\"))\n",
    "numo = int(input(\"Ingrese un tercer número\"))\n",
    "numu = int(input(\"Ingrese un  cuartonúmero\"))\n",
    "print(\"El resultado de lo que no se que hago sería: %.0f\" %(nume+numi+numo+numu/4))"
   ]
  },
  {
   "cell_type": "code",
   "execution_count": null,
   "id": "247fe445-d383-426f-98a4-fc9c16d41c90",
   "metadata": {},
   "outputs": [],
   "source": []
  }
 ],
 "metadata": {
  "kernelspec": {
   "display_name": "Python [conda env:base] *",
   "language": "python",
   "name": "conda-base-py"
  },
  "language_info": {
   "codemirror_mode": {
    "name": "ipython",
    "version": 3
   },
   "file_extension": ".py",
   "mimetype": "text/x-python",
   "name": "python",
   "nbconvert_exporter": "python",
   "pygments_lexer": "ipython3",
   "version": "3.12.7"
  }
 },
 "nbformat": 4,
 "nbformat_minor": 5
}
